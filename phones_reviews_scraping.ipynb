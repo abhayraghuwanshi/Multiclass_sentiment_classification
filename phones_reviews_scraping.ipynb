{
  "nbformat": 4,
  "nbformat_minor": 0,
  "metadata": {
    "colab": {
      "name": "phones_reviews_scraping.ipynb",
      "provenance": [],
      "collapsed_sections": [],
      "authorship_tag": "ABX9TyNYXtyriF6Yd3uf+qXC7CrX",
      "include_colab_link": true
    },
    "kernelspec": {
      "name": "python3",
      "display_name": "Python 3"
    }
  },
  "cells": [
    {
      "cell_type": "markdown",
      "metadata": {
        "id": "view-in-github",
        "colab_type": "text"
      },
      "source": [
        "<a href=\"https://colab.research.google.com/github/abhayraghuwanshi/Sentiment_classification/blob/main/phones_reviews_scraping.ipynb\" target=\"_parent\"><img src=\"https://colab.research.google.com/assets/colab-badge.svg\" alt=\"Open In Colab\"/></a>"
      ]
    },
    {
      "cell_type": "code",
      "metadata": {
        "id": "N4vjsOeQS-Y8"
      },
      "source": [
        "import requests as req\n",
        "import bs4"
      ],
      "execution_count": 1,
      "outputs": []
    },
    {
      "cell_type": "code",
      "metadata": {
        "id": "BULeKe3vmjHK"
      },
      "source": [
        "header = {'user-agent': 'Mozilla/5.0 (Windows NT 10.0; Win64; x64) '\n",
        "                    'AppleWebKit/537.36 (KHTML, like Gecko) '\n",
        "                    'Chrome/51.0.2704.103 Safari/537.36'}"
      ],
      "execution_count": 2,
      "outputs": []
    },
    {
      "cell_type": "code",
      "metadata": {
        "id": "ugJ2ha8YqVdb"
      },
      "source": [
        "def search_amazon_product(query):\n",
        "  \"\"\"\n",
        "  Args:\n",
        "    query: str. The name of the product we are searching.\n",
        "\n",
        "  Returns:\n",
        "    result: dict . With asin numbers as keys and values as product name.\n",
        "    Error : str. if no products founds\n",
        "  \"\"\"\n",
        "  s_url =  \"https://www.amazon.in/s?k=\"+query\n",
        "  page = req.get(s_url, headers = header)\n",
        "  print(s_url, page.status_code)\n",
        "  if page.status_code == 200:\n",
        "    results = {}\n",
        "    soup = bs4.BeautifulSoup(page.content)\n",
        "    for i in soup.findAll(\"div\", {'class':\"sg-col-20-of-24 s-result-item s-asin sg-col-0-of-12 sg-col-28-of-32 sg-col-16-of-20 sg-col sg-col-32-of-36 sg-col-12-of-16 sg-col-24-of-28\"}):\n",
        "      name =  i.findAll(\"span\", {'class':\"a-size-medium a-color-base a-text-normal\"})\n",
        "      results[i['data-asin']] = name[0].get_text()\n",
        "    return results\n",
        "  else:\n",
        "      return \"Error\""
      ],
      "execution_count": 3,
      "outputs": []
    },
    {
      "cell_type": "code",
      "metadata": {
        "id": "wAxzmWsyF7bF",
        "outputId": "30b18494-fc0e-4f34-ed39-cba7b05b5cb5",
        "colab": {
          "base_uri": "https://localhost:8080/",
          "height": 70
        }
      },
      "source": [
        "print(search_amazon_product('mobile'+ '&page=1'))"
      ],
      "execution_count": 4,
      "outputs": [
        {
          "output_type": "stream",
          "text": [
            "https://www.amazon.in/s?k=mobile&page=1 200\n",
            "{'B07SDPJ4XJ': 'OPPO A5 2020 (Dazzling White, 4GB RAM, 64GB Storage) with No Cost EMI/Additional Exchange Offers', 'B07X4R63DF': 'Redmi 8A Dual (Sea Blue, 2GB RAM, 32GB Storage) – Dual Cameras & 5,000 mAH Battery', 'B086KCCMCP': 'Samsung Galaxy M01 (Black, 3GB RAM, 32GB Storage) with No Cost EMI/Additional Exchange Offers', 'B07HGJJ559': 'Samsung Galaxy M21 (Midnight Blue, 4GB RAM, 64GB Storage)', 'B089MQ622N': 'Samsung Galaxy M01 Core (Black, 2GB RAM, 32GB Storage) with No Cost EMI/Additional Exchange Offers', 'B07WPVLKPW': 'Redmi 8A Dual (Sea Blue, 3GB RAM, 32GB Storage) – Dual Cameras & 5,000 mAH Battery', 'B07X1KSLC3': 'Redmi 8A Dual (Midnight Grey, 2GB RAM, 32GB Storage) – Dual Cameras & 5,000 mAH Battery', 'B081FQ2X3T': 'itel A46 (Fiery Red, 2GB RAM, 16GB Storage)', 'B07SDPTP6Q': 'OPPO A5 2020 (Dazzling White, 3GB RAM, 64GB Storage) with No Cost EMI/Additional Exchange Offers', 'B07HGGYWL6': 'Samsung Galaxy M31 (Ocean Blue, 6GB RAM, 128GB Storage)', 'B089MTL51J': 'Samsung Galaxy M01 Core (Black, 1GB RAM, 16GB Storage) with No Cost EMI/Additional Exchange Offers', 'B07X3P1N3H': 'Redmi 8A Dual (Sky White, 3GB RAM, 32GB Storage) – Dual Cameras & 5,000 mAH Battery', 'B07DJCJBB3': 'Samsung Galaxy M31s (Mirage Blue, 6GB RAM, 128GB Storage)', 'B077PWBC78': 'Redmi Note 9 Pro (Interstellar Black, 4GB RAM, 64GB Storage)- Latest 8nm Snapdragon 720G & Alexa Hands-Free | 6 Months No Cost EMI', 'B07X1KSWZ3': 'Redmi 8A Dual (Sky White, 2GB RAM, 32GB Storage) – Dual Cameras & 5,000 mAH Battery', 'B086KCDGTQ': 'Samsung Galaxy M01 (Blue, 3GB RAM, 32GB Storage) with No Cost EMI/Additional Exchange Offers'}\n"
          ],
          "name": "stdout"
        }
      ]
    },
    {
      "cell_type": "code",
      "metadata": {
        "id": "TmZ8E17YTVEo",
        "outputId": "d99cb0ba-b435-4087-ee7d-5a331dfebda2",
        "colab": {
          "base_uri": "https://localhost:8080/",
          "height": 50
        }
      },
      "source": [
        "\"\"\"\n",
        "for getting multiple page result\n",
        "\n",
        "\"\"\"\n",
        "\n",
        "asin_no_with_product_name = {}\n",
        "for i in range(1,3):\n",
        "  list1 = search_amazon_product('mobile'+ '&page=' + str(i))\n",
        "  asin_no_with_product_name.update(list1)"
      ],
      "execution_count": 5,
      "outputs": [
        {
          "output_type": "stream",
          "text": [
            "https://www.amazon.in/s?k=mobile&page=1 200\n",
            "https://www.amazon.in/s?k=mobile&page=2 200\n"
          ],
          "name": "stdout"
        }
      ]
    },
    {
      "cell_type": "code",
      "metadata": {
        "id": "U_Vs0kGJH5E4"
      },
      "source": [
        "def search_by_product_asni_numbers(asin):\n",
        "  \"\"\"\n",
        "  Arg\n",
        "    asin :str. asni no of product.\n",
        "  Return\n",
        "    str. review link of the product or Error if nothing found.\n",
        "  \"\"\"\n",
        "  \n",
        "  url = \"https://www.amazon.in/dp/\"+ str(asin)\n",
        "  page =  req.get(url, headers=header)\n",
        "  print(url, page.status_code)\n",
        "  if page.status_code == 200:\n",
        "    soup = bs4.BeautifulSoup(page.content)\n",
        "    link = soup.findAll(\"a\",{'data-hook':\"see-all-reviews-link-foot\"})\n",
        "    return link[0]['href']\n",
        "  else :\n",
        "    return \"Error\""
      ],
      "execution_count": 6,
      "outputs": []
    },
    {
      "cell_type": "code",
      "metadata": {
        "id": "SPQGVyA0na6X",
        "outputId": "9b4c2386-d579-43be-efa3-f8466a4e3b53",
        "colab": {
          "base_uri": "https://localhost:8080/",
          "height": 70
        }
      },
      "source": [
        "print(\"the link of the reviews looks like this\" , search_by_product_asni_numbers('B089MV96RW'))"
      ],
      "execution_count": 7,
      "outputs": [
        {
          "output_type": "stream",
          "text": [
            "https://www.amazon.in/dp/B089MV96RW 200\n",
            "the link of the reviews looks like this /Samsung-Galaxy-Storage-Additional-Exchange/product-reviews/B089MV96RW/ref=cm_cr_dp_d_show_all_btm?ie=UTF8&reviewerType=all_reviews\n"
          ],
          "name": "stdout"
        }
      ]
    },
    {
      "cell_type": "code",
      "metadata": {
        "id": "qQ90NTzlL2BO"
      },
      "source": [
        "def get_reviews(review_link, page_number):\n",
        "  \"\"\"\n",
        "  Arg:\n",
        "    review_link: str.  link obtained from the search_by_product_asni_numbers.\n",
        "    page_number: str| int . Page no of the review product.\n",
        "\n",
        "  Return:\n",
        "    list of reviews\n",
        "  \"\"\"\n",
        "\n",
        "  url=\"https://www.amazon.in\" + review_link + '&pageNumber='+ str(page_number)\n",
        "  page=req.get(url, headers=header)\n",
        "  if page.status_code==200:\n",
        "    reviews = []\n",
        "    soup = bs4.BeautifulSoup(page.content)\n",
        "    for i in soup.findAll(\"span\",{'data-hook':\"review-body\"}):\n",
        "      reviews.append(i.text)\n",
        "    return reviews\n",
        "  else:\n",
        "    return \"Error\""
      ],
      "execution_count": 8,
      "outputs": []
    },
    {
      "cell_type": "code",
      "metadata": {
        "id": "kbC9LYQEoD2R",
        "outputId": "e707b363-c1ac-4f3f-8718-bb436b2ee5af",
        "colab": {
          "base_uri": "https://localhost:8080/",
          "height": 205
        }
      },
      "source": [
        "get_reviews('/Samsung-Galaxy-Storage-Additional-Exchange/product-reviews/B089MV96RW/ref=cm_cr_dp_d_show_all_btm?ie=UTF8&reviewerType=all_reviews', 1)"
      ],
      "execution_count": 9,
      "outputs": [
        {
          "output_type": "execute_result",
          "data": {
            "text/plain": [
              "[\"\\n\\n  Thank you samsung and Amazon for timely rakshabandhan delivery.Now for readers this is a review unbiased and written after testing and continuous usage :-Pro's1.Screen ppi is great as entry level device✌2.Battery backup is awesome thanks to samsungs R&D even with .7mamp charger.👀3.Android go version 10 is cute without craps4.Reading pdfs is easy and comfort for eyes atleast samsung has guts to say the truth.5.No lag till now because i dont need gaming other than that all regular even without go apps are nicely running.6.fingerprint and face lock i dont need so good they are not provided.7.Call quality is okay.Speaker is normal.8.For music lovers dowload any music app with equilizer will be fine.9.16gb/32gb and sd card is okay.10.Auto smart memory cleaner(use smart manager in settings once a day) for smooth RAM functioning and ROM cleaning🤗11. Supports OTG as well.Cons1. Camera below average still expected but samsung should work more on this front if they wanna beat chinese phones.2.Not for gamers and thats expected buy a 4gb Ram 🤔 based phone why reading me?😉3.finger print and face lock missing I Can manage but most indians can't.4.Battery takes 3.15 hours to charge to work for 12 hours of calling and surfing and thats not bad at all but can be issue for chinese phone lovers who have habit of charging again and again to play pubg.Overall out of 5.Camera-2  Gui-4  Screen ppi-5  speed-4  android-4Don't buy a phone only because of specifications must see integration and longevity overall a nice secondary option and primary for featured phone switchers.\\n\\n\",\n",
              " '\\n\\n  Very smooth UI latest M series .Battery is good. 3000mahIt has dark mode.Apps run smoothly.Camera is average.Best for secondary phone.Apps are of GO versionWiFi calling feature.\\n\\n',\n",
              " '\\n\\n  I free of cost taken this phone for I show my friends in WhatsApp & facebook this phone a budget phone and full specification and more sell for samsung smartphones.\\n\\n',\n",
              " \"\\n\\n  Its not working. Pls don't buy this phone. Listen carefully, Only on August 14th 2020 I bought this, but today 23.08.2020 its not working. I couldn't even switch this mobile on. Samsung Galaxy M01 mobile. Mobile is not worth. As today I came to amazon for return or replacement this cheater has closed the return window by yesterday. How cunning they are ? not even ten days its been since I have bought. This cheaters have closed it. Its not working now.  Even if I call toll free numbers no one responses.\\n\\n\",\n",
              " \"\\n\\n  The phone suddenly went completely dead within 10 minutes of switching it on after receiving it. Asked for a return, but the delivery boy didn't take the return because the phone is dead! Again request a return. Waiting to see what happens now. Can not take it to any shop or dealer as it is purchased online.\\n\\n\",\n",
              " \"\\n\\n  After using 4/5 days suddenly without notice, the phone shutdown automatically and I couldn't restart it. So contact with amazon for replacing it and get very quick response from their end and they book a time slot to verify it by a technician. But after few hours later I found in start up guide send by Samsung,  how to restart when it stops working or hanged( by pressing power and volume key simultaneously for seven seconds or more). The fault is from the end of Samsung company I suppose, because they should mention the process on the front page with bold letter. Most of the reviews which get 1 star facing the same problems like of mine.  After using one month I want to add some extra points which impressed me.1. Sound quality and graphics are very good.2. Smooth touch sensitivity3. Ringtones are much louder.4.Two volte nano SIM s work fine together.5.Battery backup is good. Charging time is not so lengthy.6.Any SIM can be switched off manually, that impressed me.7. 2GB ram and 32 GB storage is better option for budget friendly people.8. I faced hanging problem for one day only till now , which can be easily solved by pressing volume down key and power key simultaneously for 7 seconds or more.8. Lastly this mobile is Made in India which I like the most.  So any one can go for it. Amazon agents are really helpful which I experienced.\\n\\n\",\n",
              " '\\n\\n  Thanks Amazon for delivering the product as mentioned in the product description. It was well packed and delivered.By the way, A Special Thanks to SAMSUNG for stepping up to INDIA\\'s needs and introducing a new Line of Phones for taking on the Chinese Incursions in Indian Mobile Phone Market.We ordered \"Samsung Galaxy M01 Core (Blue, 2GB RAM, 32GB Storage)\" and thrown away the chinese phone Salomi as it had 100 other Apps Pre-Installed without our information and heating phone and draining battery. Had a tough times using that \\'Salomi\\' phone. Now with a GOOD / BETTER Phone from GOOD Company Samsung, happy to own this \"Little Cute Phone\".Samsung Galaxy M01 Core (Blue, 2GB RAM, 32GB Storage) -- is a small enough to keep in pockets and has all the Latest Android 10 OS with a Good Display.  -- All latest version of Apps in a lite mode which means what we need only will be loaded and given instead of \"loading all forever\" and wasting our Precious Data.-- A good Camera with Samsung Reliability is known for its Crisp Camera and Displays.What else needed in a phone. Thanks SAMSUNG for bringing a new Affordable Range with Latest Android 10 OS.Way to go SAMSUNG. Surely we INDIANS will support SAMSUNG and make it to No.1 Company by replacing the Chinese Mobile Companies in INDIA.\\n\\n',\n",
              " '\\n\\n  Not bad....can suggest this mbl for normal users.... charging speed is very much disappointed , taking lot of time to charge up ....basic charger type not even USB cable....this suits for parents only ....not for youngsters, gamers etc.\\n\\n',\n",
              " '\\n\\n  I am writing this review after the usage of 15 days. It is one of the worst phones Samsung has made with multiple issues. Me and my friend both purchased the same phone for our aunts and are facing the same issues. The main issue I am facing is that the phone switched off 2 days back and since then I am trying to switch it on but its leading me nowhere. Neither it is charging. Phone heats up while charging as well as in normal usage conditions. While charging the phone heats up to an extent that one may feel that it could blast. My friend also faced the phone off issue but it was resolved automatically after 2 days when he connected a fast carger to the phone. He is too facing the heating issue. His phone still switches off on its own again and again now and then... All we both are able to do is to regret on wastage of our money.\\n\\n',\n",
              " \"\\n\\n  I have recieved this phone on 14th of August 2020 and today is 24th of August 2020.So After 10 Days i am reviewing this phone because i have seen many negative reviews on amazon review portal so now my true experience is about this phone following.1:- Processor Media tek Quad core Is best because quad core take less power from battry than the octa core processor. and i purchased this phone for my mom so quad core porcessor is sufficient to my mom.2:- Battry life is good because of Quad Core Processor.3:- Ram is 2Gb that is also sufficient4:- Display as always awesome as samsung provide.5:- Mike and Speaker's quality is too good as always samsung provide.6:- Many People said in the review that the mobile is automatically swiched off and on automatically. yes i have seen this my own only one time. but its not the problem. every new phone have done this one time because of system works smoothly. and after one time switch off on things happen then never repeated till my 10 days of use this phone. so you people who is taking switch off on problem very seriously ,you should not. this is one time process when phone is new sometimes phone may swich off and on automatically. so dont panik at all for this.7:- most of the people want to replace the phone because of one time switch off on problem then i have to say one thing that your first phone is the only phone who is brand new and the replaced phone never be a new phone at all . so never replace your new phone. this is my own experience.8:- I am fully satisfied from this phone in this price of 6499.9:-This is all the reason that is why i am giving 5 star this phone.Thank U Samsung.\\n\\n\"]"
            ]
          },
          "metadata": {
            "tags": []
          },
          "execution_count": 9
        }
      ]
    },
    {
      "cell_type": "code",
      "metadata": {
        "id": "ibbJaW2qMZzM",
        "outputId": "f1e563fe-be11-4b7f-c06b-d40365b6d431",
        "colab": {
          "base_uri": "https://localhost:8080/",
          "height": 521
        }
      },
      "source": [
        "# getting review of the product with the help of the asin numbers\n",
        "reviews = []\n",
        "for i in asin_no_with_product_name.keys():\n",
        "  link = search_by_product_asni_numbers(i)\n",
        "  for j in range(10):\n",
        "    asmi_review = get_reviews(link, j)\n",
        "    for x in asmi_review:\n",
        "      reviews.append([i, x])"
      ],
      "execution_count": 10,
      "outputs": [
        {
          "output_type": "stream",
          "text": [
            "https://www.amazon.in/dp/B07X4R63DF 200\n",
            "https://www.amazon.in/dp/B07HGJJ559 200\n",
            "https://www.amazon.in/dp/B086KCCMCP 200\n",
            "https://www.amazon.in/dp/B07HGGYWL6 200\n",
            "https://www.amazon.in/dp/B07SDPJ4XJ 200\n",
            "https://www.amazon.in/dp/B089MQ622N 200\n",
            "https://www.amazon.in/dp/B07X1KSLC3 200\n",
            "https://www.amazon.in/dp/B07WPVLKPW 200\n",
            "https://www.amazon.in/dp/B08GCSL3VV 200\n",
            "https://www.amazon.in/dp/B07X1KSWZ3 200\n",
            "https://www.amazon.in/dp/B07DJCJBB3 200\n",
            "https://www.amazon.in/dp/B07HGH8D2R 200\n",
            "https://www.amazon.in/dp/B086KCDGTQ 200\n",
            "https://www.amazon.in/dp/B07X3P1N3H 200\n",
            "https://www.amazon.in/dp/B07SDPTP6Q 200\n",
            "https://www.amazon.in/dp/B089MTL51J 200\n",
            "https://www.amazon.in/dp/B07KXCKPZZ 200\n",
            "https://www.amazon.in/dp/B081FQ2X3T 200\n",
            "https://www.amazon.in/dp/B07HGH88GL 200\n",
            "https://www.amazon.in/dp/B08698559Z 200\n",
            "https://www.amazon.in/dp/B077PWBC78 200\n",
            "https://www.amazon.in/dp/B087K78FD5 200\n",
            "https://www.amazon.in/dp/B086977J48 200\n",
            "https://www.amazon.in/dp/B07HGH8ML7 200\n",
            "https://www.amazon.in/dp/B07KX1S161 200\n",
            "https://www.amazon.in/dp/B089MQ6XLH 200\n",
            "https://www.amazon.in/dp/B07X92QPJ4 200\n",
            "https://www.amazon.in/dp/B07XC644PR 200\n",
            "https://www.amazon.in/dp/B08BSK3GP9 200\n",
            "https://www.amazon.in/dp/B08HX63M36 200\n"
          ],
          "name": "stdout"
        }
      ]
    },
    {
      "cell_type": "code",
      "metadata": {
        "id": "pz-gfn1RWRUO"
      },
      "source": [
        "import pandas as pd"
      ],
      "execution_count": 11,
      "outputs": []
    },
    {
      "cell_type": "code",
      "metadata": {
        "id": "6JY-KO6gOwWI",
        "outputId": "b669f098-5ef1-4697-c422-e2ea1dc093bc",
        "colab": {
          "base_uri": "https://localhost:8080/",
          "height": 70
        }
      },
      "source": [
        "reviews[0]"
      ],
      "execution_count": 12,
      "outputs": [
        {
          "output_type": "execute_result",
          "data": {
            "text/plain": [
              "['B07X4R63DF',\n",
              " '\\n\\n  \\xa0Defective product shipped.. reported within a  few  hours of receipt and no one showed up for inspection despite several follow ups. Now, it is not being replaced or refunded. Horrible experience!!\\n\\n']"
            ]
          },
          "metadata": {
            "tags": []
          },
          "execution_count": 12
        }
      ]
    },
    {
      "cell_type": "code",
      "metadata": {
        "id": "AVmBZUbzWVW_",
        "outputId": "20cf9b2f-d10e-4891-829f-a88390d77d86",
        "colab": {
          "base_uri": "https://localhost:8080/",
          "height": 195
        }
      },
      "source": [
        "review_data = pd.DataFrame(reviews)\n",
        "review_data.head()"
      ],
      "execution_count": 13,
      "outputs": [
        {
          "output_type": "execute_result",
          "data": {
            "text/html": [
              "<div>\n",
              "<style scoped>\n",
              "    .dataframe tbody tr th:only-of-type {\n",
              "        vertical-align: middle;\n",
              "    }\n",
              "\n",
              "    .dataframe tbody tr th {\n",
              "        vertical-align: top;\n",
              "    }\n",
              "\n",
              "    .dataframe thead th {\n",
              "        text-align: right;\n",
              "    }\n",
              "</style>\n",
              "<table border=\"1\" class=\"dataframe\">\n",
              "  <thead>\n",
              "    <tr style=\"text-align: right;\">\n",
              "      <th></th>\n",
              "      <th>0</th>\n",
              "      <th>1</th>\n",
              "    </tr>\n",
              "  </thead>\n",
              "  <tbody>\n",
              "    <tr>\n",
              "      <th>0</th>\n",
              "      <td>B07X4R63DF</td>\n",
              "      <td>\\n\\n   Defective product shipped.. reported wi...</td>\n",
              "    </tr>\n",
              "    <tr>\n",
              "      <th>1</th>\n",
              "      <td>B07X4R63DF</td>\n",
              "      <td>\\n\\n  Nice phone camera better attractive look...</td>\n",
              "    </tr>\n",
              "    <tr>\n",
              "      <th>2</th>\n",
              "      <td>B07X4R63DF</td>\n",
              "      <td>\\n\\n  Design-GoodCamera-NiceDisplay-satisfacto...</td>\n",
              "    </tr>\n",
              "    <tr>\n",
              "      <th>3</th>\n",
              "      <td>B07X4R63DF</td>\n",
              "      <td>\\n\\n  The headphone jack is not working  😡 Des...</td>\n",
              "    </tr>\n",
              "    <tr>\n",
              "      <th>4</th>\n",
              "      <td>B07X4R63DF</td>\n",
              "      <td>\\n\\n  First sell, First order. Mobile is very ...</td>\n",
              "    </tr>\n",
              "  </tbody>\n",
              "</table>\n",
              "</div>"
            ],
            "text/plain": [
              "            0                                                  1\n",
              "0  B07X4R63DF  \\n\\n   Defective product shipped.. reported wi...\n",
              "1  B07X4R63DF  \\n\\n  Nice phone camera better attractive look...\n",
              "2  B07X4R63DF  \\n\\n  Design-GoodCamera-NiceDisplay-satisfacto...\n",
              "3  B07X4R63DF  \\n\\n  The headphone jack is not working  😡 Des...\n",
              "4  B07X4R63DF  \\n\\n  First sell, First order. Mobile is very ..."
            ]
          },
          "metadata": {
            "tags": []
          },
          "execution_count": 13
        }
      ]
    },
    {
      "cell_type": "code",
      "metadata": {
        "id": "aAASrOkRQJCv",
        "outputId": "d4b0324e-58c8-42ad-c8df-6b5a2f228988",
        "colab": {
          "base_uri": "https://localhost:8080/",
          "height": 195
        }
      },
      "source": [
        "review_data[0] = review_data[0].apply(lambda x: asin_no_with_product_name[x])\n",
        "review_data.head()"
      ],
      "execution_count": 14,
      "outputs": [
        {
          "output_type": "execute_result",
          "data": {
            "text/html": [
              "<div>\n",
              "<style scoped>\n",
              "    .dataframe tbody tr th:only-of-type {\n",
              "        vertical-align: middle;\n",
              "    }\n",
              "\n",
              "    .dataframe tbody tr th {\n",
              "        vertical-align: top;\n",
              "    }\n",
              "\n",
              "    .dataframe thead th {\n",
              "        text-align: right;\n",
              "    }\n",
              "</style>\n",
              "<table border=\"1\" class=\"dataframe\">\n",
              "  <thead>\n",
              "    <tr style=\"text-align: right;\">\n",
              "      <th></th>\n",
              "      <th>0</th>\n",
              "      <th>1</th>\n",
              "    </tr>\n",
              "  </thead>\n",
              "  <tbody>\n",
              "    <tr>\n",
              "      <th>0</th>\n",
              "      <td>Redmi 8A Dual (Sea Blue, 2GB RAM, 32GB Storage...</td>\n",
              "      <td>\\n\\n   Defective product shipped.. reported wi...</td>\n",
              "    </tr>\n",
              "    <tr>\n",
              "      <th>1</th>\n",
              "      <td>Redmi 8A Dual (Sea Blue, 2GB RAM, 32GB Storage...</td>\n",
              "      <td>\\n\\n  Nice phone camera better attractive look...</td>\n",
              "    </tr>\n",
              "    <tr>\n",
              "      <th>2</th>\n",
              "      <td>Redmi 8A Dual (Sea Blue, 2GB RAM, 32GB Storage...</td>\n",
              "      <td>\\n\\n  Design-GoodCamera-NiceDisplay-satisfacto...</td>\n",
              "    </tr>\n",
              "    <tr>\n",
              "      <th>3</th>\n",
              "      <td>Redmi 8A Dual (Sea Blue, 2GB RAM, 32GB Storage...</td>\n",
              "      <td>\\n\\n  The headphone jack is not working  😡 Des...</td>\n",
              "    </tr>\n",
              "    <tr>\n",
              "      <th>4</th>\n",
              "      <td>Redmi 8A Dual (Sea Blue, 2GB RAM, 32GB Storage...</td>\n",
              "      <td>\\n\\n  First sell, First order. Mobile is very ...</td>\n",
              "    </tr>\n",
              "  </tbody>\n",
              "</table>\n",
              "</div>"
            ],
            "text/plain": [
              "                                                   0                                                  1\n",
              "0  Redmi 8A Dual (Sea Blue, 2GB RAM, 32GB Storage...  \\n\\n   Defective product shipped.. reported wi...\n",
              "1  Redmi 8A Dual (Sea Blue, 2GB RAM, 32GB Storage...  \\n\\n  Nice phone camera better attractive look...\n",
              "2  Redmi 8A Dual (Sea Blue, 2GB RAM, 32GB Storage...  \\n\\n  Design-GoodCamera-NiceDisplay-satisfacto...\n",
              "3  Redmi 8A Dual (Sea Blue, 2GB RAM, 32GB Storage...  \\n\\n  The headphone jack is not working  😡 Des...\n",
              "4  Redmi 8A Dual (Sea Blue, 2GB RAM, 32GB Storage...  \\n\\n  First sell, First order. Mobile is very ..."
            ]
          },
          "metadata": {
            "tags": []
          },
          "execution_count": 14
        }
      ]
    },
    {
      "cell_type": "code",
      "metadata": {
        "id": "Guy0Eh2OQ3me"
      },
      "source": [
        "review_data.columns = [\"phone_name\", \"review\"]"
      ],
      "execution_count": 15,
      "outputs": []
    },
    {
      "cell_type": "code",
      "metadata": {
        "id": "IkQRvGV4n4uX"
      },
      "source": [
        "review_data[\"review\"] = review_data[\"review\"].astype(str)\n",
        "review_data[\"phone_name\"] = review_data[\"phone_name\"].astype(str)"
      ],
      "execution_count": 19,
      "outputs": []
    },
    {
      "cell_type": "code",
      "metadata": {
        "id": "FwNPpPJVoWB4",
        "outputId": "2c2242ba-96db-4cb2-ecfd-f295d5158670",
        "colab": {
          "base_uri": "https://localhost:8080/",
          "height": 168
        }
      },
      "source": [
        "review_data.info()"
      ],
      "execution_count": 20,
      "outputs": [
        {
          "output_type": "stream",
          "text": [
            "<class 'pandas.core.frame.DataFrame'>\n",
            "RangeIndex: 3000 entries, 0 to 2999\n",
            "Data columns (total 2 columns):\n",
            " #   Column      Non-Null Count  Dtype \n",
            "---  ------      --------------  ----- \n",
            " 0   phone_name  3000 non-null   object\n",
            " 1   review      3000 non-null   object\n",
            "dtypes: object(2)\n",
            "memory usage: 47.0+ KB\n"
          ],
          "name": "stdout"
        }
      ]
    },
    {
      "cell_type": "code",
      "metadata": {
        "id": "6SOoT8E9ph5j"
      },
      "source": [
        "review_data.to_excel('phones_reviews.xlsx',columns = [\"phone_name\", \"review\"],  index=False)     "
      ],
      "execution_count": 30,
      "outputs": []
    },
    {
      "cell_type": "code",
      "metadata": {
        "id": "U5uQLsciQ9GK"
      },
      "source": [
        "review_data.to_csv(\"review_data_1.csv\", columns = [\"phone_name\", \"review\"], index=False)"
      ],
      "execution_count": 29,
      "outputs": []
    },
    {
      "cell_type": "code",
      "metadata": {
        "id": "MsgWzdJfrUWh"
      },
      "source": [
        ""
      ],
      "execution_count": null,
      "outputs": []
    }
  ]
}