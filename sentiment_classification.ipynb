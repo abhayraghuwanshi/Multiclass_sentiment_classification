{
  "nbformat": 4,
  "nbformat_minor": 0,
  "metadata": {
    "colab": {
      "name": "sentiment_classification.ipynb",
      "provenance": [],
      "collapsed_sections": [],
      "authorship_tag": "ABX9TyPYQbVN1kjv1DIojL5q6rwI",
      "include_colab_link": true
    },
    "kernelspec": {
      "name": "python3",
      "display_name": "Python 3"
    }
  },
  "cells": [
    {
      "cell_type": "markdown",
      "metadata": {
        "id": "view-in-github",
        "colab_type": "text"
      },
      "source": [
        "<a href=\"https://colab.research.google.com/github/abhayraghuwanshi/Sentiment_classification/blob/main/sentiment_classification.ipynb\" target=\"_parent\"><img src=\"https://colab.research.google.com/assets/colab-badge.svg\" alt=\"Open In Colab\"/></a>"
      ]
    },
    {
      "cell_type": "code",
      "metadata": {
        "id": "j10A2kYQ_uBJ"
      },
      "source": [
        "import pandas as pd\n",
        "import numpy as np\n",
        "import os"
      ],
      "execution_count": 1,
      "outputs": []
    },
    {
      "cell_type": "code",
      "metadata": {
        "id": "06NP_VrxAbYQ",
        "outputId": "da621f18-81f2-4290-8167-d5810260847c",
        "colab": {
          "base_uri": "https://localhost:8080/",
          "height": 34
        }
      },
      "source": [
        "from google.colab import drive\n",
        "drive.mount('/content/drive')"
      ],
      "execution_count": 2,
      "outputs": [
        {
          "output_type": "stream",
          "text": [
            "Mounted at /content/drive\n"
          ],
          "name": "stdout"
        }
      ]
    },
    {
      "cell_type": "code",
      "metadata": {
        "id": "RLf8N_MpMmkF"
      },
      "source": [
        "base_directory = \"/content/drive/My Drive/stanfordSentimentTreebank\""
      ],
      "execution_count": 5,
      "outputs": []
    },
    {
      "cell_type": "code",
      "metadata": {
        "id": "IIwfX4WLH9mJ"
      },
      "source": [
        "def sentence_with_split_label(base_directory):\n",
        "  \"\"\"\n",
        "  arg:\n",
        "    base_directory: str. current directory path\n",
        "  Return:\n",
        "    DataFrame: datasetsentences along with the split levels\n",
        "  \"\"\"\n",
        "  dataset_sentences = pd.read_csv(os.path.join(base_directory, \"datasetSentences.txt\"), sep=\"\\t\").set_index('sentence_index')\n",
        "  data_split_label = pd.read_csv(os.path.join(base_directory, \"datasetSplit.txt\"), sep=\",\").set_index('sentence_index')\n",
        "  dataset_with_label = pd.concat([dataset_sentences, data_split_label], axis=1)\n",
        "  dataset_with_label[\"splitset_label\"] = dataset_with_label[\"splitset_label\"].fillna(1).astype(int)\n",
        "  return dataset_with_label\n"
      ],
      "execution_count": 3,
      "outputs": []
    },
    {
      "cell_type": "code",
      "metadata": {
        "id": "2w4zwJOBlwge",
        "outputId": "ec71129c-467d-4287-c592-c99c27c69f18",
        "colab": {
          "base_uri": "https://localhost:8080/",
          "height": 431
        }
      },
      "source": [
        "sentence_with_split_label(base_directory)"
      ],
      "execution_count": 6,
      "outputs": [
        {
          "output_type": "execute_result",
          "data": {
            "text/html": [
              "<div>\n",
              "<style scoped>\n",
              "    .dataframe tbody tr th:only-of-type {\n",
              "        vertical-align: middle;\n",
              "    }\n",
              "\n",
              "    .dataframe tbody tr th {\n",
              "        vertical-align: top;\n",
              "    }\n",
              "\n",
              "    .dataframe thead th {\n",
              "        text-align: right;\n",
              "    }\n",
              "</style>\n",
              "<table border=\"1\" class=\"dataframe\">\n",
              "  <thead>\n",
              "    <tr style=\"text-align: right;\">\n",
              "      <th></th>\n",
              "      <th>sentence</th>\n",
              "      <th>splitset_label</th>\n",
              "    </tr>\n",
              "    <tr>\n",
              "      <th>sentence_index</th>\n",
              "      <th></th>\n",
              "      <th></th>\n",
              "    </tr>\n",
              "  </thead>\n",
              "  <tbody>\n",
              "    <tr>\n",
              "      <th>1</th>\n",
              "      <td>The Rock is destined to be the 21st Century 's...</td>\n",
              "      <td>1</td>\n",
              "    </tr>\n",
              "    <tr>\n",
              "      <th>2</th>\n",
              "      <td>The gorgeously elaborate continuation of `` Th...</td>\n",
              "      <td>1</td>\n",
              "    </tr>\n",
              "    <tr>\n",
              "      <th>3</th>\n",
              "      <td>Effective but too-tepid biopic</td>\n",
              "      <td>2</td>\n",
              "    </tr>\n",
              "    <tr>\n",
              "      <th>4</th>\n",
              "      <td>If you sometimes like to go to the movies to h...</td>\n",
              "      <td>2</td>\n",
              "    </tr>\n",
              "    <tr>\n",
              "      <th>5</th>\n",
              "      <td>Emerges as something rare , an issue movie tha...</td>\n",
              "      <td>2</td>\n",
              "    </tr>\n",
              "    <tr>\n",
              "      <th>...</th>\n",
              "      <td>...</td>\n",
              "      <td>...</td>\n",
              "    </tr>\n",
              "    <tr>\n",
              "      <th>11851</th>\n",
              "      <td>A real snooze .</td>\n",
              "      <td>1</td>\n",
              "    </tr>\n",
              "    <tr>\n",
              "      <th>11852</th>\n",
              "      <td>No surprises .</td>\n",
              "      <td>1</td>\n",
              "    </tr>\n",
              "    <tr>\n",
              "      <th>11853</th>\n",
              "      <td>We 've seen the hippie-turned-yuppie plot befo...</td>\n",
              "      <td>1</td>\n",
              "    </tr>\n",
              "    <tr>\n",
              "      <th>11854</th>\n",
              "      <td>Her fans walked out muttering words like `` ho...</td>\n",
              "      <td>1</td>\n",
              "    </tr>\n",
              "    <tr>\n",
              "      <th>11855</th>\n",
              "      <td>In this case zero .</td>\n",
              "      <td>1</td>\n",
              "    </tr>\n",
              "  </tbody>\n",
              "</table>\n",
              "<p>11855 rows × 2 columns</p>\n",
              "</div>"
            ],
            "text/plain": [
              "                                                         sentence  splitset_label\n",
              "sentence_index                                                                   \n",
              "1               The Rock is destined to be the 21st Century 's...               1\n",
              "2               The gorgeously elaborate continuation of `` Th...               1\n",
              "3                                  Effective but too-tepid biopic               2\n",
              "4               If you sometimes like to go to the movies to h...               2\n",
              "5               Emerges as something rare , an issue movie tha...               2\n",
              "...                                                           ...             ...\n",
              "11851                                             A real snooze .               1\n",
              "11852                                              No surprises .               1\n",
              "11853           We 've seen the hippie-turned-yuppie plot befo...               1\n",
              "11854           Her fans walked out muttering words like `` ho...               1\n",
              "11855                                         In this case zero .               1\n",
              "\n",
              "[11855 rows x 2 columns]"
            ]
          },
          "metadata": {
            "tags": []
          },
          "execution_count": 6
        }
      ]
    },
    {
      "cell_type": "code",
      "metadata": {
        "id": "FwDg6LztlWAL"
      },
      "source": [
        "def sentiment_to_class(sentmnt):\n",
        "  \"\"\"\n",
        "    Arg:\n",
        "      sentimnt : int.     \n",
        "    Return:\n",
        "      int. classifying the sentiment according to the sentmnt value.\n",
        "  \"\"\"\n",
        "  if(sentmnt <= 0.2):\n",
        "      return 0\n",
        "  elif(sentmnt <= 0.4):\n",
        "      return 1\n",
        "  elif(sentmnt <= 0.6):\n",
        "      return 2\n",
        "  elif(sentmnt <= 0.8):\n",
        "      return 3\n",
        "  else:\n",
        "      return 4"
      ],
      "execution_count": 7,
      "outputs": []
    },
    {
      "cell_type": "code",
      "metadata": {
        "id": "ZsRTMVBrAde_"
      },
      "source": [
        "def dictionary_with_sentiment_value(base_directory):\n",
        "  \"\"\"\n",
        "  Arg:\n",
        "    base_directory : str. \n",
        "  Return:\n",
        "    pandas Dataframe with sentiment value corresponding to the each phrase\n",
        "  \n",
        "  \"\"\"\n",
        "  #imports of the data standford data\n",
        "  sentiment_labels = pd.read_csv(os.path.join(base_directory, \"sentiment_labels.txt\"), sep=\"|\")\n",
        "  dictionary = pd.read_csv(os.path.join(base_directory, \"dictionary.txt\"), sep=\"|\")\n",
        "  sentiment_labels.columns = [\"phrase_id\", \"sentiment_value\"]\n",
        "  # applying the function sentiment_to_class \n",
        "  sentiment_labels[\"sentiment_value\"] = sentiment_labels[\"sentiment_value\"].apply(sentiment_to_class)\n",
        "  dictionary.columns = [\"phrase\", \"phrase_id\"]\n",
        "  # Joining the dataframe sentiment_lable and the dictionary with the phrase_id as common column\n",
        "  dictionary_with_sentiment = dictionary.join(sentiment_labels.set_index(\"phrase_id\"), on=\"phrase_id\")\n",
        "  return dictionary_with_sentiment"
      ],
      "execution_count": 8,
      "outputs": []
    },
    {
      "cell_type": "code",
      "metadata": {
        "id": "KR3-ZDS7i_Wl"
      },
      "source": [
        "def dataset_with_sentiment(base_directory):\n",
        "  \"\"\"\n",
        "  preprocess the data by adding sentence values to all the sentences.\n",
        "  \n",
        "  Arg:\n",
        "    base_directory : str. \n",
        "  Return:\n",
        "    pandas Dataframe with sentiment value corresponding to the each phrase\n",
        "  \"\"\"\n",
        "  dataset_with_label = sentence_with_split_label(base_directory)\n",
        "  dictionary_with_sentiment = dictionary_with_sentiment_value(base_directory)\n",
        "  dataset = dataset_with_label.join(dictionary_with_sentiment.set_index(\"phrase\"), on=\"sentence\")\n",
        "  dataset[\"sentence\"] = dataset[\"sentence\"].str.replace(r\"\\s('s|'d|'re|'ll|'m|'ve|n't)\\b\", lambda m: m.group(1))\n",
        "  return dataset"
      ],
      "execution_count": 9,
      "outputs": []
    },
    {
      "cell_type": "code",
      "metadata": {
        "id": "PYcqmlpOlKYx"
      },
      "source": [
        "dataset = dataset_with_sentiment(base_directory)"
      ],
      "execution_count": 10,
      "outputs": []
    },
    {
      "cell_type": "code",
      "metadata": {
        "id": "XUFqO-Hkohkt"
      },
      "source": [
        "dataset = dataset.dropna(0)#drop the rows missing from the dataset"
      ],
      "execution_count": 12,
      "outputs": []
    },
    {
      "cell_type": "code",
      "metadata": {
        "id": "aVMuKIFnpXA6",
        "outputId": "fc968c87-5387-4e43-85e7-9f0809f43c16",
        "colab": {
          "base_uri": "https://localhost:8080/",
          "height": 391
        }
      },
      "source": [
        "#representation of the count of the particular sentiment\n",
        "import matplotlib.pyplot as plt\n",
        "import seaborn  as sns\n",
        "count_sentiment_value = map(lambda x: len(dataset[dataset[\"sentiment_value\"]==x]), [0., 1., 2., 3., 4.])\n",
        "plt.figure(figsize=(10,6))\n",
        "sns.barplot(x=[0,1,2,3,4], y= list(count_sentiment_value))"
      ],
      "execution_count": 13,
      "outputs": [
        {
          "output_type": "execute_result",
          "data": {
            "text/plain": [
              "<matplotlib.axes._subplots.AxesSubplot at 0x7f3f391909e8>"
            ]
          },
          "metadata": {
            "tags": []
          },
          "execution_count": 13
        },
        {
          "output_type": "display_data",
          "data": {
            "image/png": "[encoded data removed]",
            "text/plain": [
              "<Figure size 720x432 with 1 Axes>"
            ]
          },
          "metadata": {
            "tags": [],
            "needs_background": "light"
          }
        }
      ]
    },
    {
      "cell_type": "markdown",
      "metadata": {
        "id": "CS4XjuPP_wC1"
      },
      "source": [
        "# <h1> LSTM Model with the preprocessing</h1>"
      ]
    },
    {
      "cell_type": "code",
      "metadata": {
        "id": "R5KbIa7KG1g9"
      },
      "source": [
        "from keras.utils import to_categorical\n",
        "import random\n",
        "import tensorflow as tf \n",
        "from sklearn.model_selection import train_test_split\n",
        "from keras.preprocessing import sequence\n",
        "from keras.preprocessing.text import Tokenizer\n",
        "from keras.layers import Dense,Dropout,Embedding,LSTM\n",
        "from keras.callbacks import EarlyStopping\n",
        "from keras.losses import categorical_crossentropy\n",
        "from keras.optimizers import Adam\n",
        "from keras.models import Sequential"
      ],
      "execution_count": 14,
      "outputs": []
    },
    {
      "cell_type": "code",
      "metadata": {
        "id": "nNPEmoBXVTBn"
      },
      "source": [
        "import nltk\n",
        "from nltk.tokenize import word_tokenize\n",
        "from nltk.stem import WordNetLemmatizer\n",
        "lemmatizer = WordNetLemmatizer()\n",
        "from bs4 import BeautifulSoup\n",
        "import re\n",
        "\n",
        "#TQDM is a progress bar library with good support for nested loops and Jupyter/IPython notebooks.\n",
        "from tqdm import tqdm"
      ],
      "execution_count": 15,
      "outputs": []
    },
    {
      "cell_type": "code",
      "metadata": {
        "id": "La1OYnpnrnQf"
      },
      "source": [
        "test_data = pd.read_csv(os.path.join(base_directory, \"mobile_review.csv\"))"
      ],
      "execution_count": 16,
      "outputs": []
    },
    {
      "cell_type": "code",
      "metadata": {
        "id": "GwKYOOQOXdzP",
        "outputId": "1f83e8d6-0874-43ab-9d40-1271f927b192",
        "colab": {
          "base_uri": "https://localhost:8080/",
          "height": 168
        }
      },
      "source": [
        "test_data.info()"
      ],
      "execution_count": 17,
      "outputs": [
        {
          "output_type": "stream",
          "text": [
            "<class 'pandas.core.frame.DataFrame'>\n",
            "RangeIndex: 3000 entries, 0 to 2999\n",
            "Data columns (total 2 columns):\n",
            " #   Column      Non-Null Count  Dtype \n",
            "---  ------      --------------  ----- \n",
            " 0   phone_name  3000 non-null   object\n",
            " 1   review      3000 non-null   object\n",
            "dtypes: object(2)\n",
            "memory usage: 47.0+ KB\n"
          ],
          "name": "stdout"
        }
      ]
    },
    {
      "cell_type": "code",
      "metadata": {
        "id": "-W7A-FfXsD0x"
      },
      "source": [
        "def clean_phone_name(name):\n",
        "  #remove the additional info from the phone name\n",
        "  x = name.find(\"(\")\n",
        "  return name[0:x]"
      ],
      "execution_count": 21,
      "outputs": []
    },
    {
      "cell_type": "code",
      "metadata": {
        "id": "L61DppPPtVc2"
      },
      "source": [
        "test_data[\"phone_name\"] = test_data[\"phone_name\"].apply(clean_phone_name)"
      ],
      "execution_count": 22,
      "outputs": []
    },
    {
      "cell_type": "code",
      "metadata": {
        "id": "tvdpIbW3UUqh"
      },
      "source": [
        "def clean_sentences(df):\n",
        "    \"\"\"\n",
        "    Arg:\n",
        "      df:dataframe. The sentence column of the data\n",
        "    Return:\n",
        "      list of list of words in sentences.\n",
        "    \"\"\"\n",
        "    reviews = []\n",
        "\n",
        "    for sent in tqdm(df):\n",
        "        \n",
        "        #remove html content\n",
        "        review_text = BeautifulSoup(sent).get_text()\n",
        "        \n",
        "        #remove non-alphabetic characters\n",
        "        review_text = re.sub(\"[^a-zA-Z]\",\" \", review_text)\n",
        "    \n",
        "        #tokenize the sentences\n",
        "        words = word_tokenize(review_text.lower())\n",
        "    \n",
        "        #lemmatize each word to its lemma\n",
        "        lemma_words = [lemmatizer.lemmatize(i) for i in words]\n",
        "    \n",
        "        reviews.append(lemma_words)\n",
        "\n",
        "    return(reviews)"
      ],
      "execution_count": 23,
      "outputs": []
    },
    {
      "cell_type": "code",
      "metadata": {
        "id": "YETbiq9lt1l6",
        "outputId": "620d878a-adb7-4927-f5d8-efd5421f1a7d",
        "colab": {
          "base_uri": "https://localhost:8080/",
          "height": 101
        }
      },
      "source": [
        " nltk.download('wordnet')\n",
        " nltk.download('punkt')"
      ],
      "execution_count": 26,
      "outputs": [
        {
          "output_type": "stream",
          "text": [
            "[nltk_data] Downloading package wordnet to /root/nltk_data...\n",
            "[nltk_data]   Package wordnet is already up-to-date!\n",
            "[nltk_data] Downloading package punkt to /root/nltk_data...\n",
            "[nltk_data]   Unzipping tokenizers/punkt.zip.\n"
          ],
          "name": "stdout"
        },
        {
          "output_type": "execute_result",
          "data": {
            "text/plain": [
              "True"
            ]
          },
          "metadata": {
            "tags": []
          },
          "execution_count": 26
        }
      ]
    },
    {
      "cell_type": "code",
      "metadata": {
        "id": "6qSORQSZRW7K",
        "outputId": "9c6bb4b3-635b-4159-fa42-5e691f654ab0",
        "colab": {
          "base_uri": "https://localhost:8080/",
          "height": 34
        }
      },
      "source": [
        "train = clean_sentences(dataset[\"sentence\"])"
      ],
      "execution_count": 27,
      "outputs": [
        {
          "output_type": "stream",
          "text": [
            "100%|██████████| 11286/11286 [00:07<00:00, 1567.97it/s]\n"
          ],
          "name": "stderr"
        }
      ]
    },
    {
      "cell_type": "code",
      "metadata": {
        "id": "6__BhICmuJKR",
        "outputId": "8d4e1588-4eac-4468-b801-9499af860166",
        "colab": {
          "base_uri": "https://localhost:8080/",
          "height": 34
        }
      },
      "source": [
        "test = clean_sentences(test_data[\"review\"])"
      ],
      "execution_count": 28,
      "outputs": [
        {
          "output_type": "stream",
          "text": [
            "100%|██████████| 3000/3000 [00:02<00:00, 1101.55it/s]\n"
          ],
          "name": "stderr"
        }
      ]
    },
    {
      "cell_type": "code",
      "metadata": {
        "id": "jSvXDVvPXJ2l"
      },
      "source": [
        "target = dataset[\"sentiment_value\"] #extracting the sentiment value from the dataset\n",
        "y_target=to_categorical(target) # convert it into categorical in the shape of [0,0,0,0,1]\n",
        "num_classes=y_target.shape[1]"
      ],
      "execution_count": 31,
      "outputs": []
    },
    {
      "cell_type": "code",
      "metadata": {
        "id": "3usDP39LYCdZ"
      },
      "source": [
        "X_train,X_val,y_train,y_val=train_test_split(train,y_target,test_size=0.2,stratify=y_target)"
      ],
      "execution_count": 32,
      "outputs": []
    },
    {
      "cell_type": "code",
      "metadata": {
        "id": "cHfDByDIaN90",
        "outputId": "a5beff8e-bb69-4b07-b15c-879e0ff10067",
        "colab": {
          "base_uri": "https://localhost:8080/",
          "height": 34
        }
      },
      "source": [
        "unique_words = set()\n",
        "len_max = 0\n",
        "\n",
        "for sent in tqdm(X_train):\n",
        "    \n",
        "    unique_words.update(sent) # update the set with the list in the sent.\n",
        "    \n",
        "    if(len_max<len(sent)):\n",
        "        len_max = len(sent)"
      ],
      "execution_count": 39,
      "outputs": [
        {
          "output_type": "stream",
          "text": [
            "100%|██████████| 9028/9028 [00:00<00:00, 351867.09it/s]\n"
          ],
          "name": "stderr"
        }
      ]
    },
    {
      "cell_type": "code",
      "metadata": {
        "id": "35m-tcCBacJz",
        "outputId": "2933b2d6-4bd6-4dfc-c938-82e1ac06d832",
        "colab": {
          "base_uri": "https://localhost:8080/",
          "height": 50
        }
      },
      "source": [
        "print(len(list(unique_words)))\n",
        "print(len_max)"
      ],
      "execution_count": 40,
      "outputs": [
        {
          "output_type": "stream",
          "text": [
            "13916\n",
            "52\n"
          ],
          "name": "stdout"
        }
      ]
    },
    {
      "cell_type": "markdown",
      "metadata": {
        "id": "XBzaYatUZnNx"
      },
      "source": [
        "<h3> Tokenizing</h3>"
      ]
    },
    {
      "cell_type": "code",
      "metadata": {
        "id": "xN5MBrkrafvS"
      },
      "source": [
        "tokenizer = Tokenizer(num_words=len(list(unique_words)))\n",
        "x_train_list = list(X_train)\n",
        "tokenizer.fit_on_texts(list(x_train_list))\n",
        "\n",
        "#texts_to_sequences(texts)\n",
        "\n",
        "# Arguments- texts: list of texts to turn to sequences.\n",
        "  #Return: list of sequences (one per text input).\n",
        "X_train = tokenizer.texts_to_sequences(X_train)\n",
        "X_val = tokenizer.texts_to_sequences(X_val)\n",
        "X_test = tokenizer.texts_to_sequences(test)"
      ],
      "execution_count": 41,
      "outputs": []
    },
    {
      "cell_type": "markdown",
      "metadata": {
        "id": "TR9mIzC4Z7Pj"
      },
      "source": [
        "<h3> Padding</h3>"
      ]
    },
    {
      "cell_type": "code",
      "metadata": {
        "id": "54AgyAd8ff_R"
      },
      "source": [
        "#LSTM need all the inputs of same size so, padding help us to make it to same size.\n",
        "\n",
        "X_train = sequence.pad_sequences(X_train, maxlen=len_max)\n",
        "X_val = sequence.pad_sequences(X_val, maxlen=int(len_max))\n",
        "X_test = sequence.pad_sequences(X_test, maxlen=len_max)"
      ],
      "execution_count": 42,
      "outputs": []
    },
    {
      "cell_type": "code",
      "metadata": {
        "id": "hFBALf1pbgG3"
      },
      "source": [
        "early_stopping = EarlyStopping(min_delta = 0.001, mode = 'max', monitor='val_acc', patience = 2)\n",
        "callback = [early_stopping]"
      ],
      "execution_count": 43,
      "outputs": []
    },
    {
      "cell_type": "code",
      "metadata": {
        "id": "qy1GiaIZawJw",
        "outputId": "238d16cf-957f-4595-90dc-4a37117bbed1",
        "colab": {
          "base_uri": "https://localhost:8080/",
          "height": 353
        }
      },
      "source": [
        "#Model using Keras LSTM\n",
        "\n",
        "#Multilayer Perceptron (MLP) for multi-class softmax classification:\n",
        "#Let’s build what’s probably the most popular type of model in NLP at the moment: Long Short Term Memory network. \n",
        "#This architecture is specially designed to work on sequence data.\n",
        "#It fits perfectly for many NLP tasks like tagging and text classification.\n",
        "#It treats the text as a sequence rather than a bag of words or as ngrams.\n",
        "\n",
        "#Here’s a possible model definition:\n",
        "\n",
        "model=Sequential()\n",
        "model.add(Embedding(len(list(unique_words)),300,input_length=len_max))\n",
        "model.add(LSTM(128,dropout=0.5, recurrent_dropout=0.5,return_sequences=True))\n",
        "model.add(LSTM(64,dropout=0.5, recurrent_dropout=0.5,return_sequences=False))\n",
        "model.add(Dense(100,activation='relu'))\n",
        "model.add(Dropout(0.5))\n",
        "model.add(Dense(num_classes,activation='softmax'))\n",
        "model.compile(loss='categorical_crossentropy',optimizer=Adam(lr=0.005),metrics=['accuracy'])\n",
        "model.summary()"
      ],
      "execution_count": 44,
      "outputs": [
        {
          "output_type": "stream",
          "text": [
            "Model: \"sequential\"\n",
            "_________________________________________________________________\n",
            "Layer (type)                 Output Shape              Param #   \n",
            "=================================================================\n",
            "embedding (Embedding)        (None, 52, 300)           4174800   \n",
            "_________________________________________________________________\n",
            "lstm (LSTM)                  (None, 52, 128)           219648    \n",
            "_________________________________________________________________\n",
            "lstm_1 (LSTM)                (None, 64)                49408     \n",
            "_________________________________________________________________\n",
            "dense (Dense)                (None, 100)               6500      \n",
            "_________________________________________________________________\n",
            "dropout (Dropout)            (None, 100)               0         \n",
            "_________________________________________________________________\n",
            "dense_1 (Dense)              (None, 5)                 505       \n",
            "=================================================================\n",
            "Total params: 4,450,861\n",
            "Trainable params: 4,450,861\n",
            "Non-trainable params: 0\n",
            "_________________________________________________________________\n"
          ],
          "name": "stdout"
        }
      ]
    },
    {
      "cell_type": "code",
      "metadata": {
        "id": "xIz8P9SHbj4w",
        "outputId": "849932b7-64a4-4d20-9097-d7fee2959bde",
        "colab": {
          "base_uri": "https://localhost:8080/",
          "height": 541
        }
      },
      "source": [
        "history=model.fit(X_train, y_train, validation_data=(X_val, y_val),epochs=10, batch_size=256, verbose=1, callbacks=callback)"
      ],
      "execution_count": 46,
      "outputs": [
        {
          "output_type": "stream",
          "text": [
            "Epoch 1/10\n",
            "36/36 [==============================] - ETA: 0s - loss: 1.4842 - accuracy: 0.3435WARNING:tensorflow:Early stopping conditioned on metric `val_acc` which is not available. Available metrics are: loss,accuracy,val_loss,val_accuracy\n",
            "36/36 [==============================] - 40s 1s/step - loss: 1.4842 - accuracy: 0.3435 - val_loss: 1.3858 - val_accuracy: 0.3809\n",
            "Epoch 2/10\n",
            "36/36 [==============================] - ETA: 0s - loss: 1.1708 - accuracy: 0.5053WARNING:tensorflow:Early stopping conditioned on metric `val_acc` which is not available. Available metrics are: loss,accuracy,val_loss,val_accuracy\n",
            "36/36 [==============================] - 39s 1s/step - loss: 1.1708 - accuracy: 0.5053 - val_loss: 1.3762 - val_accuracy: 0.4061\n",
            "Epoch 3/10\n",
            "36/36 [==============================] - ETA: 0s - loss: 0.8494 - accuracy: 0.6649WARNING:tensorflow:Early stopping conditioned on metric `val_acc` which is not available. Available metrics are: loss,accuracy,val_loss,val_accuracy\n",
            "36/36 [==============================] - 39s 1s/step - loss: 0.8494 - accuracy: 0.6649 - val_loss: 1.5426 - val_accuracy: 0.3977\n",
            "Epoch 4/10\n",
            "36/36 [==============================] - ETA: 0s - loss: 0.5934 - accuracy: 0.7875WARNING:tensorflow:Early stopping conditioned on metric `val_acc` which is not available. Available metrics are: loss,accuracy,val_loss,val_accuracy\n",
            "36/36 [==============================] - 39s 1s/step - loss: 0.5934 - accuracy: 0.7875 - val_loss: 1.7824 - val_accuracy: 0.3756\n",
            "Epoch 5/10\n",
            "36/36 [==============================] - ETA: 0s - loss: 0.4010 - accuracy: 0.8612WARNING:tensorflow:Early stopping conditioned on metric `val_acc` which is not available. Available metrics are: loss,accuracy,val_loss,val_accuracy\n",
            "36/36 [==============================] - 39s 1s/step - loss: 0.4010 - accuracy: 0.8612 - val_loss: 2.2592 - val_accuracy: 0.3689\n",
            "Epoch 6/10\n",
            "36/36 [==============================] - ETA: 0s - loss: 0.2736 - accuracy: 0.9060WARNING:tensorflow:Early stopping conditioned on metric `val_acc` which is not available. Available metrics are: loss,accuracy,val_loss,val_accuracy\n",
            "36/36 [==============================] - 39s 1s/step - loss: 0.2736 - accuracy: 0.9060 - val_loss: 2.4049 - val_accuracy: 0.3782\n",
            "Epoch 7/10\n",
            "36/36 [==============================] - ETA: 0s - loss: 0.2063 - accuracy: 0.9317WARNING:tensorflow:Early stopping conditioned on metric `val_acc` which is not available. Available metrics are: loss,accuracy,val_loss,val_accuracy\n",
            "36/36 [==============================] - 39s 1s/step - loss: 0.2063 - accuracy: 0.9317 - val_loss: 2.9037 - val_accuracy: 0.3733\n",
            "Epoch 8/10\n",
            "36/36 [==============================] - ETA: 0s - loss: 0.1658 - accuracy: 0.9468WARNING:tensorflow:Early stopping conditioned on metric `val_acc` which is not available. Available metrics are: loss,accuracy,val_loss,val_accuracy\n",
            "36/36 [==============================] - 39s 1s/step - loss: 0.1658 - accuracy: 0.9468 - val_loss: 3.1898 - val_accuracy: 0.3707\n",
            "Epoch 9/10\n",
            "36/36 [==============================] - ETA: 0s - loss: 0.1253 - accuracy: 0.9609WARNING:tensorflow:Early stopping conditioned on metric `val_acc` which is not available. Available metrics are: loss,accuracy,val_loss,val_accuracy\n",
            "36/36 [==============================] - 39s 1s/step - loss: 0.1253 - accuracy: 0.9609 - val_loss: 3.4866 - val_accuracy: 0.3707\n",
            "Epoch 10/10\n",
            "36/36 [==============================] - ETA: 0s - loss: 0.1046 - accuracy: 0.9652WARNING:tensorflow:Early stopping conditioned on metric `val_acc` which is not available. Available metrics are: loss,accuracy,val_loss,val_accuracy\n",
            "36/36 [==============================] - 39s 1s/step - loss: 0.1046 - accuracy: 0.9652 - val_loss: 3.9328 - val_accuracy: 0.3711\n"
          ],
          "name": "stdout"
        }
      ]
    },
    {
      "cell_type": "code",
      "metadata": {
        "id": "8rhZX7Bdbq8K",
        "outputId": "39581f1d-130b-4863-b4ba-0160e629cffe",
        "colab": {
          "base_uri": "https://localhost:8080/",
          "height": 282
        }
      },
      "source": [
        "import matplotlib.pyplot as plt\n",
        "\n",
        "# Create count of the number of epochs\n",
        "epoch_count = range(1, len(history.history['loss']) + 1)\n",
        "\n",
        "# Visualize learning curve. Here learning curve is not ideal.\n",
        "plt.plot(epoch_count, history.history['loss'], 'r--')\n",
        "plt.plot(epoch_count, history.history['val_loss'], 'b-')\n",
        "plt.legend(['Training Loss', 'Validation Loss'])\n"
      ],
      "execution_count": 48,
      "outputs": [
        {
          "output_type": "execute_result",
          "data": {
            "text/plain": [
              "<matplotlib.legend.Legend at 0x7f3ecdf70cc0>"
            ]
          },
          "metadata": {
            "tags": []
          },
          "execution_count": 48
        },
        {
          "output_type": "display_data",
          "data": {
            "image/png": "[encoded data removed]",
            "text/plain": [
              "<Figure size 432x288 with 1 Axes>"
            ]
          },
          "metadata": {
            "tags": [],
            "needs_background": "light"
          }
        }
      ]
    },
    {
      "cell_type": "code",
      "metadata": {
        "id": "g3TuKmCyjnvy",
        "outputId": "7ba11b63-3534-44a7-ea62-7e78019624c5",
        "colab": {
          "base_uri": "https://localhost:8080/",
          "height": 87
        }
      },
      "source": [
        "pred = model.predict_classes(X_test)"
      ],
      "execution_count": 49,
      "outputs": [
        {
          "output_type": "stream",
          "text": [
            "WARNING:tensorflow:From <ipython-input-49-a3e3e5c68c66>:1: Sequential.predict_classes (from tensorflow.python.keras.engine.sequential) is deprecated and will be removed after 2021-01-01.\n",
            "Instructions for updating:\n",
            "Please use instead:* `np.argmax(model.predict(x), axis=-1)`,   if your model does multi-class classification   (e.g. if it uses a `softmax` last-layer activation).* `(model.predict(x) > 0.5).astype(\"int32\")`,   if your model does binary classification   (e.g. if it uses a `sigmoid` last-layer activation).\n"
          ],
          "name": "stdout"
        }
      ]
    },
    {
      "cell_type": "code",
      "metadata": {
        "id": "P5a7mYlPcYRb",
        "outputId": "c1ece1a6-7c06-4a48-8415-9f5dd0f198c0",
        "colab": {
          "base_uri": "https://localhost:8080/",
          "height": 34
        }
      },
      "source": [
        "len(pred)"
      ],
      "execution_count": 50,
      "outputs": [
        {
          "output_type": "execute_result",
          "data": {
            "text/plain": [
              "3000"
            ]
          },
          "metadata": {
            "tags": []
          },
          "execution_count": 50
        }
      ]
    },
    {
      "cell_type": "code",
      "metadata": {
        "id": "H43BlGRkxQi4"
      },
      "source": [
        "phone_review_with_pred = pd.concat([test_data, pd.DataFrame(pred, columns=[\"pred\"])], axis=1)"
      ],
      "execution_count": 51,
      "outputs": []
    },
    {
      "cell_type": "code",
      "metadata": {
        "id": "nRefZQFUcrG7",
        "outputId": "005166cd-e3ff-4ff7-f6fd-945d34d3adf4",
        "colab": {
          "base_uri": "https://localhost:8080/",
          "height": 185
        }
      },
      "source": [
        "phone_review_with_pred.info()"
      ],
      "execution_count": 52,
      "outputs": [
        {
          "output_type": "stream",
          "text": [
            "<class 'pandas.core.frame.DataFrame'>\n",
            "RangeIndex: 3000 entries, 0 to 2999\n",
            "Data columns (total 3 columns):\n",
            " #   Column      Non-Null Count  Dtype \n",
            "---  ------      --------------  ----- \n",
            " 0   phone_name  3000 non-null   object\n",
            " 1   review      3000 non-null   object\n",
            " 2   pred        3000 non-null   int64 \n",
            "dtypes: int64(1), object(2)\n",
            "memory usage: 70.4+ KB\n"
          ],
          "name": "stdout"
        }
      ]
    },
    {
      "cell_type": "code",
      "metadata": {
        "id": "xsGX8sa5yZUu",
        "outputId": "54250c8a-5200-4552-d72e-4732e80c2d2e",
        "colab": {
          "base_uri": "https://localhost:8080/",
          "height": 195
        }
      },
      "source": [
        "phone_review_with_pred.head()"
      ],
      "execution_count": 53,
      "outputs": [
        {
          "output_type": "execute_result",
          "data": {
            "text/html": [
              "<div>\n",
              "<style scoped>\n",
              "    .dataframe tbody tr th:only-of-type {\n",
              "        vertical-align: middle;\n",
              "    }\n",
              "\n",
              "    .dataframe tbody tr th {\n",
              "        vertical-align: top;\n",
              "    }\n",
              "\n",
              "    .dataframe thead th {\n",
              "        text-align: right;\n",
              "    }\n",
              "</style>\n",
              "<table border=\"1\" class=\"dataframe\">\n",
              "  <thead>\n",
              "    <tr style=\"text-align: right;\">\n",
              "      <th></th>\n",
              "      <th>phone_name</th>\n",
              "      <th>review</th>\n",
              "      <th>pred</th>\n",
              "    </tr>\n",
              "  </thead>\n",
              "  <tbody>\n",
              "    <tr>\n",
              "      <th>0</th>\n",
              "      <td>Redmi 8A Dual</td>\n",
              "      <td>\\n\\n   Defective product shipped.. reported wi...</td>\n",
              "      <td>3</td>\n",
              "    </tr>\n",
              "    <tr>\n",
              "      <th>1</th>\n",
              "      <td>Redmi 8A Dual</td>\n",
              "      <td>\\n\\n  Nice phone camera better attractive look...</td>\n",
              "      <td>3</td>\n",
              "    </tr>\n",
              "    <tr>\n",
              "      <th>2</th>\n",
              "      <td>Redmi 8A Dual</td>\n",
              "      <td>\\n\\n  Design-GoodCamera-NiceDisplay-satisfacto...</td>\n",
              "      <td>3</td>\n",
              "    </tr>\n",
              "    <tr>\n",
              "      <th>3</th>\n",
              "      <td>Redmi 8A Dual</td>\n",
              "      <td>\\n\\n  The headphone jack is not working  😡 Des...</td>\n",
              "      <td>2</td>\n",
              "    </tr>\n",
              "    <tr>\n",
              "      <th>4</th>\n",
              "      <td>Redmi 8A Dual</td>\n",
              "      <td>\\n\\n  First sell, First order. Mobile is very ...</td>\n",
              "      <td>1</td>\n",
              "    </tr>\n",
              "  </tbody>\n",
              "</table>\n",
              "</div>"
            ],
            "text/plain": [
              "      phone_name                                             review  pred\n",
              "0  Redmi 8A Dual  \\n\\n   Defective product shipped.. reported wi...     3\n",
              "1  Redmi 8A Dual  \\n\\n  Nice phone camera better attractive look...     3\n",
              "2  Redmi 8A Dual  \\n\\n  Design-GoodCamera-NiceDisplay-satisfacto...     3\n",
              "3  Redmi 8A Dual  \\n\\n  The headphone jack is not working  😡 Des...     2\n",
              "4  Redmi 8A Dual  \\n\\n  First sell, First order. Mobile is very ...     1"
            ]
          },
          "metadata": {
            "tags": []
          },
          "execution_count": 53
        }
      ]
    },
    {
      "cell_type": "code",
      "metadata": {
        "id": "P32xQbYGyhmc",
        "outputId": "840f3349-2c74-4e5a-a510-5373c07cbfb7",
        "colab": {
          "base_uri": "https://localhost:8080/",
          "height": 391
        }
      },
      "source": [
        "count_sentiment_value = map(lambda x: len(phone_review_with_pred[phone_review_with_pred[\"pred\"]==x]), [0., 1., 2., 3., 4.])\n",
        "plt.figure(figsize=(10,6))\n",
        "sns.barplot(x=[0,1,2,3,4], y= list(count_sentiment_value))"
      ],
      "execution_count": 54,
      "outputs": [
        {
          "output_type": "execute_result",
          "data": {
            "text/plain": [
              "<matplotlib.axes._subplots.AxesSubplot at 0x7f3ecdd99748>"
            ]
          },
          "metadata": {
            "tags": []
          },
          "execution_count": 54
        },
        {
          "output_type": "display_data",
          "data": {
            "image/png": "[encoded data removed]",
            "text/plain": [
              "<Figure size 720x432 with 1 Axes>"
            ]
          },
          "metadata": {
            "tags": [],
            "needs_background": "light"
          }
        }
      ]
    },
    {
      "cell_type": "code",
      "metadata": {
        "id": "YJoc4SQlzCQj"
      },
      "source": [
        "phone_review_with_pred.to_excel(\"mobile_phones_1.xlsx\",columns=[\"phone_name\", \"review\", \"pred\"],  index=False)"
      ],
      "execution_count": 56,
      "outputs": []
    },
    {
      "cell_type": "code",
      "metadata": {
        "id": "SNzDcJOn4oOM"
      },
      "source": [
        "phone_review_with_pred.to_csv(\"mobile_phones_final.csv\",columns=[\"phone_name\", \"review\", \"pred\"],  index=False)"
      ],
      "execution_count": 57,
      "outputs": []
    },
    {
      "cell_type": "markdown",
      "metadata": {
        "id": "bpi_yL7gfKs2"
      },
      "source": [
        "altering different hyper parameters especially learning rate can have a positive impact\n",
        "on accuracy and learning curve. model has low accuracy now but if i had more time to do it then result might be a little bit different."
      ]
    },
    {
      "cell_type": "code",
      "metadata": {
        "id": "Ekv2k5BNfebf"
      },
      "source": [
        ""
      ],
      "execution_count": null,
      "outputs": []
    }
  ]
}